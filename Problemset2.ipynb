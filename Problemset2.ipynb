{
 "cells": [
  {
   "cell_type": "markdown",
   "id": "a705d48b",
   "metadata": {},
   "source": [
    "# Question 1"
   ]
  },
  {
   "cell_type": "code",
   "execution_count": 14,
   "id": "e55c7a0d",
   "metadata": {},
   "outputs": [],
   "source": [
    "# assigns the value '0' to global variable 'a'\n",
    "a = 0 \n",
    "\n",
    "def b():\n",
    "    # declares 'a' inside the function 'b' that refers to global variable 'a' \n",
    "    global a\n",
    "    \n",
    "    # calls the function 'c' declared later in the program with current value of 'a' as argument.\n",
    "    a = c(a)\n",
    "    \n",
    "def c(a):\n",
    "    # returns the value of 'a' added with 2 every time the function is called.\n",
    "    return a + 2\n"
   ]
  },
  {
   "cell_type": "code",
   "execution_count": 15,
   "id": "f9482be5",
   "metadata": {},
   "outputs": [],
   "source": [
    "b()"
   ]
  },
  {
   "cell_type": "code",
   "execution_count": 16,
   "id": "443106d2",
   "metadata": {},
   "outputs": [],
   "source": [
    "b()"
   ]
  },
  {
   "cell_type": "code",
   "execution_count": 17,
   "id": "771ac054",
   "metadata": {},
   "outputs": [],
   "source": [
    "b()"
   ]
  },
  {
   "cell_type": "code",
   "execution_count": 18,
   "id": "51c7588c",
   "metadata": {},
   "outputs": [
    {
     "data": {
      "text/plain": [
       "6"
      ]
     },
     "execution_count": 18,
     "metadata": {},
     "output_type": "execute_result"
    }
   ],
   "source": [
    "a"
   ]
  },
  {
   "cell_type": "markdown",
   "id": "018fd397",
   "metadata": {},
   "source": [
    "### After executing the given statements in the Python interpreter, the value displayed when the last expression a is evaluated will be 6.\n",
    "\n",
    "#####  -Let's break down the execution step by step:\n",
    "\n",
    "##### - Initially, the variable a is assigned the value 0.\n",
    "##### - The function b() is called for the first time. Inside b(), the global keyword is used to specify that the a variable being referred to is the global variable a defined outside the function.\n",
    "##### - The function c(a) is called, passing the current value of a (0) as an argument. The c() function adds 2 to the argument and returns the result (2).\n",
    "##### - Inside b(), the value returned by c(a) (2) is assigned to the global variable a. So, now the global variable a has the value 2.\n",
    "###### The function b() is called for the second time. The same process as before is repeated, which increments the value of a by 2 again. Now, a becomes 4.\n",
    "##### - The function b() is called for the third time. The value of a is incremented by 2 once more, resulting in a being set to 6.\n",
    "##### - Finally, the value of the global variable a is displayed when the last expression a is evaluated, which is 6.\n",
    "##### - In summary, each call to the function b() increments the value of a by 2, starting from the initial value of 0. Therefore, after three calls to b(), a becomes 6."
   ]
  },
  {
   "cell_type": "markdown",
   "id": "d614d425",
   "metadata": {},
   "source": [
    "<br>"
   ]
  },
  {
   "cell_type": "markdown",
   "id": "f285824c",
   "metadata": {},
   "source": [
    "# Question 2"
   ]
  },
  {
   "cell_type": "code",
   "execution_count": 19,
   "id": "6ad0e555",
   "metadata": {},
   "outputs": [],
   "source": [
    "def file_length(file_name):\n",
    "    try:\n",
    "        # Try to open the file with the given file_name.\n",
    "        file = open(file_name)\n",
    "        \n",
    "        # Read the contents of the file and store it in the variable 'contents'.\n",
    "        contents = file.read()\n",
    "    \n",
    "        # Close the file after reading to release resources.\n",
    "        file.close()\n",
    "        \n",
    "        # Display the length of the contents of the file.\n",
    "        print(\"The length of the file content:\", len(contents))\n",
    "    \n",
    "    # Handle the FileNotFoundError exception.\n",
    "    except FileNotFoundError:\n",
    "        # Print an error message indicating that the file was not found.\n",
    "        print(file_name, \"not found\")\n",
    "\n",
    "        \n",
    "    "
   ]
  },
  {
   "cell_type": "code",
   "execution_count": 20,
   "id": "b01bd57a",
   "metadata": {},
   "outputs": [
    {
     "name": "stdout",
     "output_type": "stream",
     "text": [
      "The length of the file content: 124\n"
     ]
    }
   ],
   "source": [
    "file_length(\"Filelength.txt\")"
   ]
  },
  {
   "cell_type": "code",
   "execution_count": 21,
   "id": "dfedda43",
   "metadata": {},
   "outputs": [
    {
     "name": "stdout",
     "output_type": "stream",
     "text": [
      "filelenth.txt not found\n"
     ]
    }
   ],
   "source": [
    "file_length(\"filelenth.txt\")"
   ]
  },
  {
   "cell_type": "markdown",
   "id": "fa205387",
   "metadata": {},
   "source": [
    "# Question 3"
   ]
  },
  {
   "cell_type": "code",
   "execution_count": 22,
   "id": "62e75d14",
   "metadata": {},
   "outputs": [],
   "source": [
    "class Marsupial:\n",
    "    def __init__(self):\n",
    "        self.pouch = []  # Initialize an empty list to represent the pouch contents\n",
    "\n",
    "    def put_in_pouch(self, item):\n",
    "        self.pouch.append(item)  # Add the given item to the pouch list\n",
    "\n",
    "    def pouch_contents(self):\n",
    "        return self.pouch  # Return the contents of the pouch as a list\n"
   ]
  },
  {
   "cell_type": "code",
   "execution_count": 23,
   "id": "3cc7c35f",
   "metadata": {},
   "outputs": [
    {
     "name": "stdout",
     "output_type": "stream",
     "text": [
      "['doll', 'firetruck', 'kitten']\n"
     ]
    }
   ],
   "source": [
    "m = Marsupial()  # Create a new instance of Marsupial\n",
    "\n",
    "m.put_in_pouch('doll')  # Put 'doll' in the pouch\n",
    "m.put_in_pouch('firetruck')  # Put 'firetruck' in the pouch\n",
    "m.put_in_pouch('kitten')  # Put 'kitten' in the pouch\n",
    "\n",
    "print(m.pouch_contents())  # Print the contents of the pouch: ['doll', 'firetruck', 'kitten']"
   ]
  },
  {
   "cell_type": "markdown",
   "id": "764917c5",
   "metadata": {},
   "source": [
    "<br>"
   ]
  },
  {
   "cell_type": "code",
   "execution_count": 24,
   "id": "c88845c4",
   "metadata": {},
   "outputs": [],
   "source": [
    "class Kangaroo(Marsupial):\n",
    "    def __init__(self, x, y):\n",
    "        super().__init__()  # Call the superclass (Marsupial) constructor\n",
    "        self.x = x  # Initialize the x-coordinate of the Kangaroo\n",
    "        self.y = y  # Initialize the y-coordinate of the Kangaroo\n",
    "\n",
    "    def jump(self, dx, dy):\n",
    "        self.x += dx  # Move the Kangaroo along the x-axis by dx units\n",
    "        self.y += dy  # Move the Kangaroo along the y-axis by dy units\n",
    "\n",
    "    def __str__(self):\n",
    "        return f\"I am a Kangaroo located at coordinates ({self.x},{self.y})\""
   ]
  },
  {
   "cell_type": "code",
   "execution_count": 25,
   "id": "f92dc1df",
   "metadata": {},
   "outputs": [
    {
     "name": "stdout",
     "output_type": "stream",
     "text": [
      "I am a Kangaroo located at coordinates (0,0)\n"
     ]
    }
   ],
   "source": [
    "k = Kangaroo(0,0)\n",
    "\n",
    "print(k)"
   ]
  },
  {
   "cell_type": "code",
   "execution_count": 26,
   "id": "d4e9352e",
   "metadata": {},
   "outputs": [
    {
     "name": "stdout",
     "output_type": "stream",
     "text": [
      "I am a Kangaroo located at coordinates (0,0)\n",
      "['doll', 'firetruck', 'kitten']\n",
      "I am a Kangaroo located at coordinates (3,0)\n"
     ]
    }
   ],
   "source": [
    "k = Kangaroo(0, 0)  # Create a new instance of Kangaroo with coordinates (0, 0)\n",
    "\n",
    "print(k)  # Print the Kangaroo object, which invokes the __str__ method\n",
    "\n",
    "k.put_in_pouch('doll')  # Put 'doll' in the pouch\n",
    "k.put_in_pouch('firetruck')  # Put 'firetruck' in the pouch\n",
    "k.put_in_pouch('kitten')  # Put 'kitten' in the pouch\n",
    "\n",
    "print(k.pouch_contents())  # Print the contents of the pouch\n",
    "\n",
    "k.jump(1, 0)  # Move Kangaroo by 1 unit along the x-axis\n",
    "k.jump(1, 0)  # Move Kangaroo by 1 unit along the x-axis\n",
    "k.jump(1, 0)  # Move Kangaroo by 1 unit along the x-axis\n",
    "\n",
    "print(k)  # Print the Kangaroo object after the jumps, which invokes the __str__ method\n"
   ]
  },
  {
   "cell_type": "markdown",
   "id": "67740ad8",
   "metadata": {},
   "source": [
    "# Question 4"
   ]
  },
  {
   "cell_type": "code",
   "execution_count": 27,
   "id": "e4afbd0d",
   "metadata": {},
   "outputs": [],
   "source": [
    "def collatz(x):\n",
    "    # Base case: stop when the sequence reaches 1\n",
    "    if x == 1:\n",
    "        print(x)\n",
    "    else:\n",
    "        print(x)\n",
    "        if x % 2 == 0:\n",
    "            # Recursive case: if x is even, divide it by 2\n",
    "            collatz(x // 2)\n",
    "        else:\n",
    "            # Recursive case: if x is odd, multiply it by 3 and add 1\n",
    "            collatz((x * 3) + 1)"
   ]
  },
  {
   "cell_type": "code",
   "execution_count": 28,
   "id": "9f1524ec",
   "metadata": {},
   "outputs": [
    {
     "name": "stdout",
     "output_type": "stream",
     "text": [
      "1\n"
     ]
    }
   ],
   "source": [
    "collatz(1)"
   ]
  },
  {
   "cell_type": "code",
   "execution_count": 29,
   "id": "49d5dacd",
   "metadata": {},
   "outputs": [
    {
     "name": "stdout",
     "output_type": "stream",
     "text": [
      "10\n",
      "5\n",
      "16\n",
      "8\n",
      "4\n",
      "2\n",
      "1\n"
     ]
    }
   ],
   "source": [
    "collatz(10)"
   ]
  },
  {
   "cell_type": "markdown",
   "id": "577a83fa",
   "metadata": {},
   "source": [
    "<br><br>"
   ]
  },
  {
   "cell_type": "markdown",
   "id": "df3966fd",
   "metadata": {},
   "source": [
    "# Question 5 "
   ]
  },
  {
   "cell_type": "code",
   "execution_count": 30,
   "id": "ac4e151e",
   "metadata": {},
   "outputs": [],
   "source": [
    "def binary(n):\n",
    "    if n > 1:\n",
    "        binary(n // 2)  # Recursive call with the integer division by 2\n",
    "    print(n % 2, end='')  # Print the remainder (0 or 1) when dividing n by 2\n",
    "\n"
   ]
  },
  {
   "cell_type": "code",
   "execution_count": 31,
   "id": "c068ce0c",
   "metadata": {},
   "outputs": [
    {
     "name": "stdout",
     "output_type": "stream",
     "text": [
      "0"
     ]
    }
   ],
   "source": [
    "binary(0)"
   ]
  },
  {
   "cell_type": "code",
   "execution_count": 32,
   "id": "1814669d",
   "metadata": {},
   "outputs": [
    {
     "name": "stdout",
     "output_type": "stream",
     "text": [
      "1"
     ]
    }
   ],
   "source": [
    "binary(1)"
   ]
  },
  {
   "cell_type": "code",
   "execution_count": 33,
   "id": "0da7e8c4",
   "metadata": {},
   "outputs": [
    {
     "name": "stdout",
     "output_type": "stream",
     "text": [
      "11"
     ]
    }
   ],
   "source": [
    "binary(3)"
   ]
  },
  {
   "cell_type": "code",
   "execution_count": 34,
   "id": "228c237e",
   "metadata": {},
   "outputs": [
    {
     "name": "stdout",
     "output_type": "stream",
     "text": [
      "1001"
     ]
    }
   ],
   "source": [
    "binary(9)"
   ]
  },
  {
   "cell_type": "markdown",
   "id": "e0bea206",
   "metadata": {},
   "source": [
    "# Question 6 "
   ]
  },
  {
   "cell_type": "code",
   "execution_count": 56,
   "id": "8ae128d3",
   "metadata": {},
   "outputs": [],
   "source": [
    "from html.parser import HTMLParser\n",
    "\n",
    "class HeadingParser(HTMLParser):\n",
    "    def __init__(self):\n",
    "        super().__init__()\n",
    "        self.headings = []  # List to store the extracted headings\n",
    "        self.indentation = 0  # Variable to track the current indentation level\n",
    "\n",
    "    def handle_starttag(self, tag, attrs):\n",
    "        if tag.startswith('h') and tag[1:].isdigit():  # Check if the tag is an h1, h2, h3, etc.\n",
    "            self.indentation = int(tag[1:]) - 1  # Set the indentation level based on the tag number\n",
    "        else:\n",
    "            self.indentation = 0  # Reset the indentation level for non-heading tags\n",
    "\n",
    "    def handle_data(self, data):\n",
    "        if data.strip() and self.indentation >= 0:  # Check if the data is non-empty and we are inside a heading\n",
    "            self.headings.append((' ' * self.indentation * 4) + data.strip())  # Add the heading to the list with the appropriate indentation\n",
    "\n",
    "    def print_headings(self):\n",
    "        for heading in self.headings:\n",
    "            print(heading)  # Print each heading\n"
   ]
  },
  {
   "cell_type": "code",
   "execution_count": 57,
   "id": "a2553e2d",
   "metadata": {},
   "outputs": [
    {
     "name": "stdout",
     "output_type": "stream",
     "text": [
      "Change_me\n",
      "W3C Mission\n",
      "    Principles\n"
     ]
    }
   ],
   "source": [
    "if __name__ == \"__main__\":\n",
    "    infile = open('w3c.html', encoding='utf-8')  # Open the HTML file (replace 'w3c.html' with the correct path if needed) and specify the encoding\n",
    "    content = infile.read()  # Read the content of the file\n",
    "    infile.close()  # Close the file\n",
    "\n",
    "    hp = HeadingParser()  # Create an instance of the HeadingParser class\n",
    "    hp.feed(content)  # Parse the HTML content\n",
    "    hp.print_headings()  # Print the extracted headings with proper indentation\n"
   ]
  },
  {
   "cell_type": "markdown",
   "id": "21863da4",
   "metadata": {},
   "source": [
    "# Question 7 "
   ]
  },
  {
   "cell_type": "code",
   "execution_count": 79,
   "id": "4627ec56",
   "metadata": {},
   "outputs": [],
   "source": [
    "from urllib.parse import urljoin\n",
    "from urllib.request import urlopen\n",
    "from html.parser import HTMLParser\n",
    "\n",
    "def webdir(url, depth, indent):\n",
    "    # Checks if the maximum depth has been reached\n",
    "    if depth < 0:\n",
    "        return\n",
    "\n",
    "    try:\n",
    "        # Opens the URL and reads its contents\n",
    "        url_response = urlopen(url)\n",
    "        contents = url_response.read().decode()\n",
    "\n",
    "        # Displays the current URL with necessary indentations\n",
    "        print(' ' * indent + url)\n",
    "\n",
    "        # Creates an instance of WebPageParser to parse the contents of the webpage\n",
    "        parser = WebPageParser()\n",
    "        parser.feed(contents)\n",
    "\n",
    "        # Iterates over each link found by the parser\n",
    "        for link in parser.links:\n",
    "            # Joins the relative link with the base URL to get the absolute URL\n",
    "            absolute_url = urljoin(url, link)\n",
    "\n",
    "            # Recursively calls webdir() for the next web page with different depth and indent value\n",
    "            webdir(absolute_url, depth - 1, indent + 4)\n",
    "\n",
    "    except Exception as e:\n",
    "        # Handles exceptions if they occur and prints an error message\n",
    "        print('Error:', e)\n",
    "\n",
    "class WebPageParser(HTMLParser):\n",
    "    def __init__(self):\n",
    "        super().__init__()\n",
    "        self.links = []\n",
    "\n",
    "    def handle_starttag(self, tag, attrs):\n",
    "        if tag == 'a':\n",
    "            for attr in attrs:\n",
    "                if attr[0] == 'href':\n",
    "                    # Adds the href attribute value to the links list\n",
    "                    self.links.append(attr[1])\n"
   ]
  },
  {
   "cell_type": "code",
   "execution_count": 80,
   "id": "2974d5bc",
   "metadata": {},
   "outputs": [
    {
     "name": "stdout",
     "output_type": "stream",
     "text": [
      "https://reed.cs.depaul.edu/lperkovic/csc242/homeworks/Homework4.html\n",
      "    https://reed.cs.depaul.edu/lperkovic/csc242/homeworks/homework4.py\n",
      "    https://reed.cs.depaul.edu/lperkovic/csc242/homeworks/increment.py\n",
      "    https://reed.cs.depaul.edu/lperkovic/csc242/homeworks/bmi.py\n",
      "    https://d2l.depaul.edu/\n",
      "    https://reed.cs.depaul.edu/lperkovic/csc242/homeworks/increment.py\n",
      "    https://reed.cs.depaul.edu/lperkovic/csc242/homeworks/bmi.py\n"
     ]
    }
   ],
   "source": [
    "webdir('https://reed.cs.depaul.edu/lperkovic/csc242/homeworks/Homework4.html', 2, 0)"
   ]
  },
  {
   "cell_type": "markdown",
   "id": "5b710153",
   "metadata": {},
   "source": [
    "# Question 8"
   ]
  },
  {
   "cell_type": "markdown",
   "id": "c7bd42fc",
   "metadata": {},
   "source": [
    "## All the temperature data\n",
    "SELECT temperature\n",
    "FROM weather_table;"
   ]
  },
  {
   "cell_type": "markdown",
   "id": "0d22141f",
   "metadata": {},
   "source": [
    "## All the cities, but without repetition\n",
    "SELECT DISTINCT city\n",
    "FROM weather_table;"
   ]
  },
  {
   "cell_type": "markdown",
   "id": "1a8f48dd",
   "metadata": {},
   "source": [
    "## All the records for India\n",
    "SELECT *\n",
    "FROM weather_table\n",
    "WHERE country = 'India';"
   ]
  },
  {
   "cell_type": "markdown",
   "id": "6d2937e4",
   "metadata": {},
   "source": [
    "## All the Fall records\n",
    "SELECT *\n",
    "FROM weather_table\n",
    "WHERE season = 'Fall';"
   ]
  },
  {
   "cell_type": "markdown",
   "id": "6a12d78c",
   "metadata": {},
   "source": [
    "## The city, country, and season for which the average rainfall is between 200 and 400 millimeters \n",
    "SELECT city, country, season\n",
    "FROM weather_table\n",
    "WHERE rainfall BETWEEN 200 AND 400;"
   ]
  },
  {
   "cell_type": "markdown",
   "id": "945be6b7",
   "metadata": {},
   "source": [
    "## The city and country for which the average Fall temperature is above 20 degrees, in increasing temperature order.\n",
    "SELECT city, country\n",
    "FROM weather_table\n",
    "WHERE season = 'Fall'\n",
    "GROUP BY city, country\n",
    "HAVING AVG(temperature) > 20\n",
    "ORDER BY AVG(temperature);"
   ]
  },
  {
   "cell_type": "markdown",
   "id": "acab8a2a",
   "metadata": {},
   "source": [
    "## The total annual rainfall for Cairo\n",
    "SELECT SUM(rainfall) AS Total_Rainfall\n",
    "FROM weather_table\n",
    "WHERE city = 'Cairo';"
   ]
  },
  {
   "cell_type": "markdown",
   "id": "7df6d0f3",
   "metadata": {},
   "source": [
    "## The total rainfall for each season\n",
    "SELECT season, SUM(rainfall) AS Total_Rainfall\n",
    "FROM weather_table\n",
    "GROUP BY season;"
   ]
  },
  {
   "cell_type": "markdown",
   "id": "3e2366ca",
   "metadata": {},
   "source": [
    "# Question 9 "
   ]
  },
  {
   "cell_type": "markdown",
   "id": "b5f94720",
   "metadata": {},
   "source": [
    "## Word list"
   ]
  },
  {
   "cell_type": "code",
   "execution_count": 67,
   "id": "433f9588",
   "metadata": {},
   "outputs": [],
   "source": [
    "words = ['The', 'quick', 'brown', 'fox', 'jumps', 'over', 'the', 'lazy', 'dog']"
   ]
  },
  {
   "cell_type": "markdown",
   "id": "d7653d48",
   "metadata": {},
   "source": [
    "### a) Convert all words to uppercase"
   ]
  },
  {
   "cell_type": "code",
   "execution_count": 69,
   "id": "37c8830a",
   "metadata": {},
   "outputs": [],
   "source": [
    "list_a = [word.upper() for word in words]"
   ]
  },
  {
   "cell_type": "markdown",
   "id": "fcaccbe3",
   "metadata": {},
   "source": [
    "### c) Get the lengths of the words"
   ]
  },
  {
   "cell_type": "code",
   "execution_count": 70,
   "id": "2a49189b",
   "metadata": {},
   "outputs": [],
   "source": [
    "list_b = [word.lower() for word in words]"
   ]
  },
  {
   "cell_type": "markdown",
   "id": "161593e9",
   "metadata": {},
   "source": [
    "### c) Get the lengths of the words"
   ]
  },
  {
   "cell_type": "code",
   "execution_count": 71,
   "id": "aa8461c4",
   "metadata": {},
   "outputs": [],
   "source": [
    "list_c = [len(word) for word in words]"
   ]
  },
  {
   "cell_type": "markdown",
   "id": "e9e9fc34",
   "metadata": {},
   "source": [
    "### d) Create a list containing a sublist for each word with uppercase, lowercase, and length"
   ]
  },
  {
   "cell_type": "code",
   "execution_count": 72,
   "id": "a7c2e2ca",
   "metadata": {},
   "outputs": [],
   "source": [
    "list_d = [[word.upper(), word.lower(), len(word)] for word in words]"
   ]
  },
  {
   "cell_type": "markdown",
   "id": "6dacc80c",
   "metadata": {},
   "source": [
    "\n",
    "### e) Filter words with 4 or more characters"
   ]
  },
  {
   "cell_type": "code",
   "execution_count": 73,
   "id": "0a9babe5",
   "metadata": {},
   "outputs": [],
   "source": [
    "list_e = [word for word in words if len(word) >= 4]"
   ]
  },
  {
   "cell_type": "code",
   "execution_count": 74,
   "id": "b806a8ab",
   "metadata": {},
   "outputs": [
    {
     "name": "stdout",
     "output_type": "stream",
     "text": [
      "['THE', 'QUICK', 'BROWN', 'FOX', 'JUMPS', 'OVER', 'THE', 'LAZY', 'DOG']\n",
      "['the', 'quick', 'brown', 'fox', 'jumps', 'over', 'the', 'lazy', 'dog']\n",
      "[3, 5, 5, 3, 5, 4, 3, 4, 3]\n",
      "[['THE', 'the', 3], ['QUICK', 'quick', 5], ['BROWN', 'brown', 5], ['FOX', 'fox', 3], ['JUMPS', 'jumps', 5], ['OVER', 'over', 4], ['THE', 'the', 3], ['LAZY', 'lazy', 4], ['DOG', 'dog', 3]]\n",
      "['quick', 'brown', 'jumps', 'over', 'lazy']\n"
     ]
    }
   ],
   "source": [
    "# Print the generated lists\n",
    "print(list_a)  # Output: ['THE', 'QUICK', 'BROWN', 'FOX', 'JUMPS', 'OVER', 'THE', 'LAZY', 'DOG']\n",
    "print(list_b)  # Output: ['the', 'quick', 'brown', 'fox', 'jumps', 'over', 'the', 'lazy', 'dog']\n",
    "print(list_c)  # Output: [3, 5, 5, 3, 5, 4, 3, 4, 3]\n",
    "print(list_d)  # Output: [['THE', 'the', 3], ['QUICK', 'quick', 5], ['BROWN', 'brown', 5], ['FOX', 'fox', 3], ['JUMPS', 'jumps', 5], ['OVER', 'over', 4], ['THE', 'the', 3], ['LAZY', 'lazy', 4], ['DOG', 'dog', 3]]\n",
    "print(list_e)  # Output: ['quick', 'brown', 'jumps', 'over', 'lazy']"
   ]
  }
 ],
 "metadata": {
  "kernelspec": {
   "display_name": "Python 3 (ipykernel)",
   "language": "python",
   "name": "python3"
  },
  "language_info": {
   "codemirror_mode": {
    "name": "ipython",
    "version": 3
   },
   "file_extension": ".py",
   "mimetype": "text/x-python",
   "name": "python",
   "nbconvert_exporter": "python",
   "pygments_lexer": "ipython3",
   "version": "3.11.3"
  }
 },
 "nbformat": 4,
 "nbformat_minor": 5
}
